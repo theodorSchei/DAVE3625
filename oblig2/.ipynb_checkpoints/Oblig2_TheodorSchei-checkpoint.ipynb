{
 "cells": [
  {
   "cell_type": "code",
   "execution_count": 152,
   "id": "ed4473fd",
   "metadata": {},
   "outputs": [],
   "source": [
    "# Importing dependencies\n",
    "\n",
    "%matplotlib inline\n",
    "\n",
    "import numpy as np\n",
    "import pandas as pd\n",
    "import matplotlib.pyplot as plt\n",
    "import matplotlib\n",
    "\n",
    "from sklearn import metrics\n",
    "from sklearn import preprocessing\n",
    "from sklearn.linear_model import LinearRegression\n",
    "from sklearn.model_selection import train_test_split"
   ]
  },
  {
   "cell_type": "code",
   "execution_count": 153,
   "id": "4fd688fa",
   "metadata": {
    "scrolled": true
   },
   "outputs": [
    {
     "data": {
      "text/html": [
       "<div>\n",
       "<style scoped>\n",
       "    .dataframe tbody tr th:only-of-type {\n",
       "        vertical-align: middle;\n",
       "    }\n",
       "\n",
       "    .dataframe tbody tr th {\n",
       "        vertical-align: top;\n",
       "    }\n",
       "\n",
       "    .dataframe thead th {\n",
       "        text-align: right;\n",
       "    }\n",
       "</style>\n",
       "<table border=\"1\" class=\"dataframe\">\n",
       "  <thead>\n",
       "    <tr style=\"text-align: right;\">\n",
       "      <th></th>\n",
       "      <th>Date</th>\n",
       "      <th>Open</th>\n",
       "      <th>High</th>\n",
       "      <th>Low</th>\n",
       "      <th>Close</th>\n",
       "      <th>Adj Close</th>\n",
       "      <th>Volume</th>\n",
       "    </tr>\n",
       "  </thead>\n",
       "  <tbody>\n",
       "    <tr>\n",
       "      <th>0</th>\n",
       "      <td>2010-06-29</td>\n",
       "      <td>3.8</td>\n",
       "      <td>5.0</td>\n",
       "      <td>3.508</td>\n",
       "      <td>4.778</td>\n",
       "      <td>4.778</td>\n",
       "      <td>93831500</td>\n",
       "    </tr>\n",
       "  </tbody>\n",
       "</table>\n",
       "</div>"
      ],
      "text/plain": [
       "         Date  Open  High    Low  Close  Adj Close    Volume\n",
       "0  2010-06-29   3.8   5.0  3.508  4.778      4.778  93831500"
      ]
     },
     "execution_count": 153,
     "metadata": {},
     "output_type": "execute_result"
    }
   ],
   "source": [
    "# Importing data from csv\n",
    "\n",
    "url=\"TSLA.csv\"\n",
    "df = pd.read_csv(url, sep=',')\n",
    "df.head(1)"
   ]
  },
  {
   "cell_type": "code",
   "execution_count": 154,
   "id": "83c2288e",
   "metadata": {},
   "outputs": [
    {
     "data": {
      "image/png": "[encoded data removed]",
      "text/plain": [
       "<Figure size 432x288 with 1 Axes>"
      ]
     },
     "metadata": {
      "needs_background": "light"
     },
     "output_type": "display_data"
    }
   ],
   "source": [
    "# Plot price over time\n",
    "\n",
    "# convert dates to dattime objects\n",
    "dates = matplotlib.dates.date2num(df['Date'])\n",
    "\n",
    "plt.plot_date(dates, 'High', 'b-', data=df)\n",
    "\n",
    "plt.title('TSLA price over time')\n",
    "plt.xlabel('Date')\n",
    "plt.ylabel('Closing Price in USD')\n",
    "\n",
    "plt.show()"
   ]
  },
  {
   "cell_type": "code",
   "execution_count": 155,
   "id": "4515e9b2",
   "metadata": {},
   "outputs": [
    {
     "data": {
      "text/html": [
       "<div>\n",
       "<style scoped>\n",
       "    .dataframe tbody tr th:only-of-type {\n",
       "        vertical-align: middle;\n",
       "    }\n",
       "\n",
       "    .dataframe tbody tr th {\n",
       "        vertical-align: top;\n",
       "    }\n",
       "\n",
       "    .dataframe thead th {\n",
       "        text-align: right;\n",
       "    }\n",
       "</style>\n",
       "<table border=\"1\" class=\"dataframe\">\n",
       "  <thead>\n",
       "    <tr style=\"text-align: right;\">\n",
       "      <th></th>\n",
       "      <th>Date</th>\n",
       "      <th>Open</th>\n",
       "      <th>High</th>\n",
       "      <th>Low</th>\n",
       "      <th>Close</th>\n",
       "      <th>Adj Close</th>\n",
       "      <th>Volume</th>\n",
       "    </tr>\n",
       "  </thead>\n",
       "  <tbody>\n",
       "    <tr>\n",
       "      <th>0</th>\n",
       "      <td>1277769600000000000</td>\n",
       "      <td>3.800</td>\n",
       "      <td>5.000</td>\n",
       "      <td>3.508</td>\n",
       "      <td>4.778</td>\n",
       "      <td>4.778</td>\n",
       "      <td>93831500</td>\n",
       "    </tr>\n",
       "    <tr>\n",
       "      <th>1</th>\n",
       "      <td>1277856000000000000</td>\n",
       "      <td>5.158</td>\n",
       "      <td>6.084</td>\n",
       "      <td>4.660</td>\n",
       "      <td>4.766</td>\n",
       "      <td>4.766</td>\n",
       "      <td>85935500</td>\n",
       "    </tr>\n",
       "    <tr>\n",
       "      <th>2</th>\n",
       "      <td>1277942400000000000</td>\n",
       "      <td>5.000</td>\n",
       "      <td>5.184</td>\n",
       "      <td>4.054</td>\n",
       "      <td>4.392</td>\n",
       "      <td>4.392</td>\n",
       "      <td>41094000</td>\n",
       "    </tr>\n",
       "    <tr>\n",
       "      <th>3</th>\n",
       "      <td>1278028800000000000</td>\n",
       "      <td>4.600</td>\n",
       "      <td>4.620</td>\n",
       "      <td>3.742</td>\n",
       "      <td>3.840</td>\n",
       "      <td>3.840</td>\n",
       "      <td>25699000</td>\n",
       "    </tr>\n",
       "    <tr>\n",
       "      <th>4</th>\n",
       "      <td>1278374400000000000</td>\n",
       "      <td>4.000</td>\n",
       "      <td>4.000</td>\n",
       "      <td>3.166</td>\n",
       "      <td>3.222</td>\n",
       "      <td>3.222</td>\n",
       "      <td>34334500</td>\n",
       "    </tr>\n",
       "  </tbody>\n",
       "</table>\n",
       "</div>"
      ],
      "text/plain": [
       "                  Date   Open   High    Low  Close  Adj Close    Volume\n",
       "0  1277769600000000000  3.800  5.000  3.508  4.778      4.778  93831500\n",
       "1  1277856000000000000  5.158  6.084  4.660  4.766      4.766  85935500\n",
       "2  1277942400000000000  5.000  5.184  4.054  4.392      4.392  41094000\n",
       "3  1278028800000000000  4.600  4.620  3.742  3.840      3.840  25699000\n",
       "4  1278374400000000000  4.000  4.000  3.166  3.222      3.222  34334500"
      ]
     },
     "execution_count": 155,
     "metadata": {},
     "output_type": "execute_result"
    }
   ],
   "source": [
    "# Make a correlational matrix from the dataframe\n",
    "\n",
    "# We need to change the date format to numeric\n",
    "\n",
    "df.Date=pd.to_datetime(df.Date)\n",
    "df.Date=pd.to_numeric(df.Date)\n",
    "df.head()"
   ]
  },
  {
   "cell_type": "code",
   "execution_count": 156,
   "id": "aec57d0d",
   "metadata": {},
   "outputs": [
    {
     "data": {
      "text/html": [
       "<style type=\"text/css\">\n",
       "#T_7ee90_row0_col0, #T_7ee90_row1_col1, #T_7ee90_row1_col2, #T_7ee90_row1_col3, #T_7ee90_row1_col4, #T_7ee90_row1_col5, #T_7ee90_row2_col1, #T_7ee90_row2_col2, #T_7ee90_row2_col3, #T_7ee90_row2_col4, #T_7ee90_row2_col5, #T_7ee90_row3_col1, #T_7ee90_row3_col2, #T_7ee90_row3_col3, #T_7ee90_row3_col4, #T_7ee90_row3_col5, #T_7ee90_row4_col1, #T_7ee90_row4_col2, #T_7ee90_row4_col3, #T_7ee90_row4_col4, #T_7ee90_row4_col5, #T_7ee90_row5_col1, #T_7ee90_row5_col2, #T_7ee90_row5_col3, #T_7ee90_row5_col4, #T_7ee90_row5_col5, #T_7ee90_row6_col6 {\n",
       "  background-color: #b40426;\n",
       "  color: #f1f1f1;\n",
       "}\n",
       "#T_7ee90_row0_col1, #T_7ee90_row0_col3 {\n",
       "  background-color: #efcebd;\n",
       "  color: #000000;\n",
       "}\n",
       "#T_7ee90_row0_col2, #T_7ee90_row0_col4, #T_7ee90_row0_col5 {\n",
       "  background-color: #efcfbf;\n",
       "  color: #000000;\n",
       "}\n",
       "#T_7ee90_row0_col6 {\n",
       "  background-color: #bad0f8;\n",
       "  color: #000000;\n",
       "}\n",
       "#T_7ee90_row1_col0, #T_7ee90_row2_col0, #T_7ee90_row3_col0, #T_7ee90_row4_col0, #T_7ee90_row5_col0 {\n",
       "  background-color: #a9c6fd;\n",
       "  color: #000000;\n",
       "}\n",
       "#T_7ee90_row1_col6, #T_7ee90_row4_col6, #T_7ee90_row5_col6 {\n",
       "  background-color: #3c4ec2;\n",
       "  color: #f1f1f1;\n",
       "}\n",
       "#T_7ee90_row2_col6 {\n",
       "  background-color: #3e51c5;\n",
       "  color: #f1f1f1;\n",
       "}\n",
       "#T_7ee90_row3_col6, #T_7ee90_row6_col0, #T_7ee90_row6_col1, #T_7ee90_row6_col2, #T_7ee90_row6_col3, #T_7ee90_row6_col4, #T_7ee90_row6_col5 {\n",
       "  background-color: #3b4cc0;\n",
       "  color: #f1f1f1;\n",
       "}\n",
       "</style>\n",
       "<table id=\"T_7ee90_\">\n",
       "  <thead>\n",
       "    <tr>\n",
       "      <th class=\"blank level0\" >&nbsp;</th>\n",
       "      <th class=\"col_heading level0 col0\" >Date</th>\n",
       "      <th class=\"col_heading level0 col1\" >Open</th>\n",
       "      <th class=\"col_heading level0 col2\" >High</th>\n",
       "      <th class=\"col_heading level0 col3\" >Low</th>\n",
       "      <th class=\"col_heading level0 col4\" >Close</th>\n",
       "      <th class=\"col_heading level0 col5\" >Adj Close</th>\n",
       "      <th class=\"col_heading level0 col6\" >Volume</th>\n",
       "    </tr>\n",
       "  </thead>\n",
       "  <tbody>\n",
       "    <tr>\n",
       "      <th id=\"T_7ee90_level0_row0\" class=\"row_heading level0 row0\" >Date</th>\n",
       "      <td id=\"T_7ee90_row0_col0\" class=\"data row0 col0\" >1.000000</td>\n",
       "      <td id=\"T_7ee90_row0_col1\" class=\"data row0 col1\" >0.641732</td>\n",
       "      <td id=\"T_7ee90_row0_col2\" class=\"data row0 col2\" >0.642373</td>\n",
       "      <td id=\"T_7ee90_row0_col3\" class=\"data row0 col3\" >0.641241</td>\n",
       "      <td id=\"T_7ee90_row0_col4\" class=\"data row0 col4\" >0.641787</td>\n",
       "      <td id=\"T_7ee90_row0_col5\" class=\"data row0 col5\" >0.641787</td>\n",
       "      <td id=\"T_7ee90_row0_col6\" class=\"data row0 col6\" >0.465322</td>\n",
       "    </tr>\n",
       "    <tr>\n",
       "      <th id=\"T_7ee90_level0_row1\" class=\"row_heading level0 row1\" >Open</th>\n",
       "      <td id=\"T_7ee90_row1_col0\" class=\"data row1 col0\" >0.641732</td>\n",
       "      <td id=\"T_7ee90_row1_col1\" class=\"data row1 col1\" >1.000000</td>\n",
       "      <td id=\"T_7ee90_row1_col2\" class=\"data row1 col2\" >0.999765</td>\n",
       "      <td id=\"T_7ee90_row1_col3\" class=\"data row1 col3\" >0.999691</td>\n",
       "      <td id=\"T_7ee90_row1_col4\" class=\"data row1 col4\" >0.999447</td>\n",
       "      <td id=\"T_7ee90_row1_col5\" class=\"data row1 col5\" >0.999447</td>\n",
       "      <td id=\"T_7ee90_row1_col6\" class=\"data row1 col6\" >0.142161</td>\n",
       "    </tr>\n",
       "    <tr>\n",
       "      <th id=\"T_7ee90_level0_row2\" class=\"row_heading level0 row2\" >High</th>\n",
       "      <td id=\"T_7ee90_row2_col0\" class=\"data row2 col0\" >0.642373</td>\n",
       "      <td id=\"T_7ee90_row2_col1\" class=\"data row2 col1\" >0.999765</td>\n",
       "      <td id=\"T_7ee90_row2_col2\" class=\"data row2 col2\" >1.000000</td>\n",
       "      <td id=\"T_7ee90_row2_col3\" class=\"data row2 col3\" >0.999609</td>\n",
       "      <td id=\"T_7ee90_row2_col4\" class=\"data row2 col4\" >0.999771</td>\n",
       "      <td id=\"T_7ee90_row2_col5\" class=\"data row2 col5\" >0.999771</td>\n",
       "      <td id=\"T_7ee90_row2_col6\" class=\"data row2 col6\" >0.147257</td>\n",
       "    </tr>\n",
       "    <tr>\n",
       "      <th id=\"T_7ee90_level0_row3\" class=\"row_heading level0 row3\" >Low</th>\n",
       "      <td id=\"T_7ee90_row3_col0\" class=\"data row3 col0\" >0.641241</td>\n",
       "      <td id=\"T_7ee90_row3_col1\" class=\"data row3 col1\" >0.999691</td>\n",
       "      <td id=\"T_7ee90_row3_col2\" class=\"data row3 col2\" >0.999609</td>\n",
       "      <td id=\"T_7ee90_row3_col3\" class=\"data row3 col3\" >1.000000</td>\n",
       "      <td id=\"T_7ee90_row3_col4\" class=\"data row3 col4\" >0.999688</td>\n",
       "      <td id=\"T_7ee90_row3_col5\" class=\"data row3 col5\" >0.999688</td>\n",
       "      <td id=\"T_7ee90_row3_col6\" class=\"data row3 col6\" >0.136844</td>\n",
       "    </tr>\n",
       "    <tr>\n",
       "      <th id=\"T_7ee90_level0_row4\" class=\"row_heading level0 row4\" >Close</th>\n",
       "      <td id=\"T_7ee90_row4_col0\" class=\"data row4 col0\" >0.641787</td>\n",
       "      <td id=\"T_7ee90_row4_col1\" class=\"data row4 col1\" >0.999447</td>\n",
       "      <td id=\"T_7ee90_row4_col2\" class=\"data row4 col2\" >0.999771</td>\n",
       "      <td id=\"T_7ee90_row4_col3\" class=\"data row4 col3\" >0.999688</td>\n",
       "      <td id=\"T_7ee90_row4_col4\" class=\"data row4 col4\" >1.000000</td>\n",
       "      <td id=\"T_7ee90_row4_col5\" class=\"data row4 col5\" >1.000000</td>\n",
       "      <td id=\"T_7ee90_row4_col6\" class=\"data row4 col6\" >0.143022</td>\n",
       "    </tr>\n",
       "    <tr>\n",
       "      <th id=\"T_7ee90_level0_row5\" class=\"row_heading level0 row5\" >Adj Close</th>\n",
       "      <td id=\"T_7ee90_row5_col0\" class=\"data row5 col0\" >0.641787</td>\n",
       "      <td id=\"T_7ee90_row5_col1\" class=\"data row5 col1\" >0.999447</td>\n",
       "      <td id=\"T_7ee90_row5_col2\" class=\"data row5 col2\" >0.999771</td>\n",
       "      <td id=\"T_7ee90_row5_col3\" class=\"data row5 col3\" >0.999688</td>\n",
       "      <td id=\"T_7ee90_row5_col4\" class=\"data row5 col4\" >1.000000</td>\n",
       "      <td id=\"T_7ee90_row5_col5\" class=\"data row5 col5\" >1.000000</td>\n",
       "      <td id=\"T_7ee90_row5_col6\" class=\"data row5 col6\" >0.143022</td>\n",
       "    </tr>\n",
       "    <tr>\n",
       "      <th id=\"T_7ee90_level0_row6\" class=\"row_heading level0 row6\" >Volume</th>\n",
       "      <td id=\"T_7ee90_row6_col0\" class=\"data row6 col0\" >0.465322</td>\n",
       "      <td id=\"T_7ee90_row6_col1\" class=\"data row6 col1\" >0.142161</td>\n",
       "      <td id=\"T_7ee90_row6_col2\" class=\"data row6 col2\" >0.147257</td>\n",
       "      <td id=\"T_7ee90_row6_col3\" class=\"data row6 col3\" >0.136844</td>\n",
       "      <td id=\"T_7ee90_row6_col4\" class=\"data row6 col4\" >0.143022</td>\n",
       "      <td id=\"T_7ee90_row6_col5\" class=\"data row6 col5\" >0.143022</td>\n",
       "      <td id=\"T_7ee90_row6_col6\" class=\"data row6 col6\" >1.000000</td>\n",
       "    </tr>\n",
       "  </tbody>\n",
       "</table>\n"
      ],
      "text/plain": [
       "<pandas.io.formats.style.Styler at 0x7f8fde7c1520>"
      ]
     },
     "execution_count": 156,
     "metadata": {},
     "output_type": "execute_result"
    }
   ],
   "source": [
    "# Draw a correlationplot\n",
    "\n",
    "corrMatrix = df.corr()\n",
    "corrMatrix.style.background_gradient(cmap='coolwarm')"
   ]
  },
  {
   "cell_type": "code",
   "execution_count": 157,
   "id": "5098427f",
   "metadata": {},
   "outputs": [
    {
     "data": {
      "text/html": [
       "<div>\n",
       "<style scoped>\n",
       "    .dataframe tbody tr th:only-of-type {\n",
       "        vertical-align: middle;\n",
       "    }\n",
       "\n",
       "    .dataframe tbody tr th {\n",
       "        vertical-align: top;\n",
       "    }\n",
       "\n",
       "    .dataframe thead th {\n",
       "        text-align: right;\n",
       "    }\n",
       "</style>\n",
       "<table border=\"1\" class=\"dataframe\">\n",
       "  <thead>\n",
       "    <tr style=\"text-align: right;\">\n",
       "      <th></th>\n",
       "      <th>0</th>\n",
       "      <th>1</th>\n",
       "      <th>2</th>\n",
       "      <th>3</th>\n",
       "      <th>4</th>\n",
       "      <th>5</th>\n",
       "      <th>6</th>\n",
       "    </tr>\n",
       "  </thead>\n",
       "  <tbody>\n",
       "    <tr>\n",
       "      <th>0</th>\n",
       "      <td>1.626184e+53</td>\n",
       "      <td>3.000363e+06</td>\n",
       "      <td>4.026696e+06</td>\n",
       "      <td>2.649296e+06</td>\n",
       "      <td>3.702279e+06</td>\n",
       "      <td>3.702279e+06</td>\n",
       "      <td>8.677323e+24</td>\n",
       "    </tr>\n",
       "    <tr>\n",
       "      <th>1</th>\n",
       "      <td>1.626294e+53</td>\n",
       "      <td>4.071573e+06</td>\n",
       "      <td>4.899036e+06</td>\n",
       "      <td>3.518449e+06</td>\n",
       "      <td>3.692987e+06</td>\n",
       "      <td>3.692987e+06</td>\n",
       "      <td>7.947119e+24</td>\n",
       "    </tr>\n",
       "    <tr>\n",
       "      <th>2</th>\n",
       "      <td>1.626404e+53</td>\n",
       "      <td>3.946940e+06</td>\n",
       "      <td>4.174769e+06</td>\n",
       "      <td>3.061238e+06</td>\n",
       "      <td>3.403408e+06</td>\n",
       "      <td>3.403408e+06</td>\n",
       "      <td>3.800280e+24</td>\n",
       "    </tr>\n",
       "    <tr>\n",
       "      <th>3</th>\n",
       "      <td>1.626514e+53</td>\n",
       "      <td>3.631415e+06</td>\n",
       "      <td>3.720894e+06</td>\n",
       "      <td>2.825843e+06</td>\n",
       "      <td>2.976007e+06</td>\n",
       "      <td>2.976007e+06</td>\n",
       "      <td>2.376585e+24</td>\n",
       "    </tr>\n",
       "    <tr>\n",
       "      <th>4</th>\n",
       "      <td>1.626954e+53</td>\n",
       "      <td>3.158126e+06</td>\n",
       "      <td>3.221954e+06</td>\n",
       "      <td>2.391266e+06</td>\n",
       "      <td>2.497504e+06</td>\n",
       "      <td>2.497504e+06</td>\n",
       "      <td>3.175176e+24</td>\n",
       "    </tr>\n",
       "  </tbody>\n",
       "</table>\n",
       "</div>"
      ],
      "text/plain": [
       "              0             1             2             3             4  \\\n",
       "0  1.626184e+53  3.000363e+06  4.026696e+06  2.649296e+06  3.702279e+06   \n",
       "1  1.626294e+53  4.071573e+06  4.899036e+06  3.518449e+06  3.692987e+06   \n",
       "2  1.626404e+53  3.946940e+06  4.174769e+06  3.061238e+06  3.403408e+06   \n",
       "3  1.626514e+53  3.631415e+06  3.720894e+06  2.825843e+06  2.976007e+06   \n",
       "4  1.626954e+53  3.158126e+06  3.221954e+06  2.391266e+06  2.497504e+06   \n",
       "\n",
       "              5             6  \n",
       "0  3.702279e+06  8.677323e+24  \n",
       "1  3.692987e+06  7.947119e+24  \n",
       "2  3.403408e+06  3.800280e+24  \n",
       "3  2.976007e+06  2.376585e+24  \n",
       "4  2.497504e+06  3.175176e+24  "
      ]
     },
     "execution_count": 157,
     "metadata": {},
     "output_type": "execute_result"
    }
   ],
   "source": [
    "# Lets train a model\n",
    "scaler = preprocessing.MinMaxScaler().fit(x)\n",
    "\n",
    "x = df.values\n",
    "x = scaler.inverse_transform(x)\n",
    "df = pd.DataFrame(x)\n",
    "df.head()"
   ]
  },
  {
   "cell_type": "code",
   "execution_count": 158,
   "id": "8f00516d",
   "metadata": {},
   "outputs": [],
   "source": [
    "# Split into training and testing set\n",
    "\n",
    "X = pd.DataFrame(df[0]) #Date\n",
    "y = pd.DataFrame(df[4]) #Close\n",
    "\n",
    "X_train, X_test, y_train, y_test = train_test_split(X, y, test_size=0.33, random_state=42)"
   ]
  },
  {
   "cell_type": "code",
   "execution_count": 159,
   "id": "13e0b465",
   "metadata": {},
   "outputs": [
    {
     "data": {
      "image/png": "[encoded data removed]",
      "text/plain": [
       "<Figure size 432x288 with 1 Axes>"
      ]
     },
     "metadata": {
      "needs_background": "light"
     },
     "output_type": "display_data"
    },
    {
     "name": "stdout",
     "output_type": "stream",
     "text": [
      "MSE = 1.3106388142743852e+16\n"
     ]
    }
   ],
   "source": [
    "# Create a linear regressor model\n",
    "\n",
    "linear_regressor = LinearRegression()  # create object for the class\n",
    "linear_regressor.fit(X_train, y_train)  # perform linear regression\n",
    "Y_pred = linear_regressor.predict(X_train)  # make predictions\n",
    "\n",
    "# Plot prediction against result\n",
    "\n",
    "plt.scatter(X_train, y_train)             #Plot blue dots with real data\n",
    "plt.plot(X_train, Y_pred, color='red')    #Plot red line with prediction\n",
    "plt.show()                                #Show the plot\n",
    "print( \"MSE = \"+str(metrics.mean_squared_error(y_train,Y_pred))) #Calculate MSE"
   ]
  },
  {
   "cell_type": "code",
   "execution_count": 160,
   "id": "f080c75e",
   "metadata": {},
   "outputs": [
    {
     "data": {
      "image/png": "[encoded data removed]",
      "text/plain": [
       "<Figure size 432x288 with 1 Axes>"
      ]
     },
     "metadata": {
      "needs_background": "light"
     },
     "output_type": "display_data"
    },
    {
     "name": "stdout",
     "output_type": "stream",
     "text": [
      "MSE = 1.1874006293359962e+16\n"
     ]
    }
   ],
   "source": [
    "# Check how good the model works on the test data\n",
    "\n",
    "Y_pred = linear_regressor.predict(X_test)  # Predict the model on X_test\n",
    "plt.scatter(X_test, y_test)\n",
    "plt.plot(X_test, Y_pred, color='red')\n",
    "plt.show()\n",
    "print( \"MSE = \"+str(metrics.mean_squared_error(y_test,Y_pred)))"
   ]
  },
  {
   "cell_type": "code",
   "execution_count": 161,
   "id": "4c4c18d7",
   "metadata": {},
   "outputs": [
    {
     "data": {
      "text/plain": [
       "array([[-1.27916725e+09]])"
      ]
     },
     "execution_count": 161,
     "metadata": {},
     "output_type": "execute_result"
    }
   ],
   "source": [
    "# Lets test our model with todays date\n",
    "\n",
    "first_date  = 1277769600000000000\n",
    "todays_date = 1634668674000000000\n",
    "\n",
    "# linear_regressor.predict([[first_date]])\n",
    "linear_regressor.predict([[todays_date]])\n"
   ]
  },
  {
   "cell_type": "code",
   "execution_count": null,
   "id": "b4a621ac",
   "metadata": {},
   "outputs": [],
   "source": []
  }
 ],
 "metadata": {
  "kernelspec": {
   "display_name": "Python 3 (ipykernel)",
   "language": "python",
   "name": "python3"
  },
  "language_info": {
   "codemirror_mode": {
    "name": "ipython",
    "version": 3
   },
   "file_extension": ".py",
   "mimetype": "text/x-python",
   "name": "python",
   "nbconvert_exporter": "python",
   "pygments_lexer": "ipython3",
   "version": "3.8.11"
  }
 },
 "nbformat": 4,
 "nbformat_minor": 5
}
